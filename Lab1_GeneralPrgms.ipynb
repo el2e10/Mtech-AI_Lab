{
 "cells": [
  {
   "cell_type": "markdown",
   "metadata": {},
   "source": [
    "#### Question 1"
   ]
  },
  {
   "cell_type": "code",
   "execution_count": 74,
   "metadata": {},
   "outputs": [],
   "source": [
    "def check_prime(n):\n",
    "    if(n in [0,1]):\n",
    "        return False\n",
    "    for i in range(2,n):\n",
    "        if(n%i == 0):\n",
    "            return False\n",
    "    return True"
   ]
  },
  {
   "cell_type": "code",
   "execution_count": 75,
   "metadata": {},
   "outputs": [],
   "source": [
    "def print_prime_range():\n",
    "    lower = int(input(\"Enter lower limit\"))\n",
    "    higher = int(input (\"Enter higher limit\"))\n",
    "    for i in range(lower,higher):\n",
    "        if(check_prime(i)):\n",
    "            print(i)"
   ]
  },
  {
   "cell_type": "code",
   "execution_count": 76,
   "metadata": {},
   "outputs": [
    {
     "name": "stdin",
     "output_type": "stream",
     "text": [
      "Enter lower limit 3\n",
      "Enter higher limit 10\n"
     ]
    },
    {
     "name": "stdout",
     "output_type": "stream",
     "text": [
      "3\n",
      "5\n",
      "7\n"
     ]
    }
   ],
   "source": [
    "print_prime_range()"
   ]
  },
  {
   "cell_type": "markdown",
   "metadata": {},
   "source": [
    "#### Question 2"
   ]
  },
  {
   "cell_type": "code",
   "execution_count": 77,
   "metadata": {},
   "outputs": [],
   "source": [
    "import calendar"
   ]
  },
  {
   "cell_type": "code",
   "execution_count": 78,
   "metadata": {},
   "outputs": [],
   "source": [
    "def display_calendar():\n",
    "    year = int(input(\"Enter year\"))\n",
    "    month = int(input(\"Enter month\"))\n",
    "    print(calendar.month(year,month))"
   ]
  },
  {
   "cell_type": "code",
   "execution_count": 79,
   "metadata": {},
   "outputs": [
    {
     "name": "stdin",
     "output_type": "stream",
     "text": [
      "Enter year 2020\n",
      "Enter month 4\n"
     ]
    },
    {
     "name": "stdout",
     "output_type": "stream",
     "text": [
      "     April 2020\n",
      "Mo Tu We Th Fr Sa Su\n",
      "       1  2  3  4  5\n",
      " 6  7  8  9 10 11 12\n",
      "13 14 15 16 17 18 19\n",
      "20 21 22 23 24 25 26\n",
      "27 28 29 30\n",
      "\n"
     ]
    }
   ],
   "source": [
    "display_calendar()"
   ]
  },
  {
   "cell_type": "markdown",
   "metadata": {},
   "source": [
    "#### Question 3"
   ]
  },
  {
   "cell_type": "code",
   "execution_count": 80,
   "metadata": {},
   "outputs": [],
   "source": [
    "def mult_matrix():\n",
    "    r1, c1 = input(\"Enter the row and column number of first matrix\").split()\n",
    "    r2, c2 = input(\"Enter the row and column number of second matrix\").split()\n",
    "    matrix_one = []\n",
    "    matrix_two = []    \n",
    "    \n",
    "    \n",
    "    for i in range(int(r1)):\n",
    "        temp_arr = []\n",
    "        for j in range(int(c1)):\n",
    "            temp_value = int(input(\"Enter the value\"))\n",
    "            temp_arr.append(temp_value)\n",
    "        matrix_one.append(temp_arr)\n",
    "        \n",
    "    for i in range(int(r2)):\n",
    "        temp_arr = []\n",
    "        for j in range(int(c2)):\n",
    "            temp_value = int(input(\"Enter the value\"))\n",
    "            temp_arr.append(temp_value)\n",
    "        matrix_two.append(temp_arr)        \n",
    "    \n",
    "    print(matrix_one)\n",
    "    print(matrix_two)    \n",
    "    \n",
    "    if(len(matrix_one[0]) != len(matrix_two)):\n",
    "        print(\"These matrices can't be multiplied\")\n",
    "    sum = [[0 for _ in range(len(matrix_one))] for _ in range(len(matrix_two[0]))]\n",
    "\n",
    "    for i in range(len(matrix_one)):\n",
    "        for j in range(len(matrix_two[0])):\n",
    "            for k in range(len(matrix_two)):\n",
    "                sum[i][j] += matrix_one[i][k] * matrix_two[k][j]\n",
    "    \n",
    "    print(sum)"
   ]
  },
  {
   "cell_type": "code",
   "execution_count": 81,
   "metadata": {},
   "outputs": [
    {
     "name": "stdin",
     "output_type": "stream",
     "text": [
      "Enter the row and column number of first matrix 2 2\n",
      "Enter the row and column number of second matrix 2 2\n",
      "Enter the value 1\n",
      "Enter the value 2\n",
      "Enter the value 4\n",
      "Enter the value 5\n",
      "Enter the value 1\n",
      "Enter the value 2\n",
      "Enter the value 4\n",
      "Enter the value 5\n"
     ]
    },
    {
     "name": "stdout",
     "output_type": "stream",
     "text": [
      "[[1, 2], [4, 5]]\n",
      "[[1, 2], [4, 5]]\n",
      "[[9, 12], [24, 33]]\n"
     ]
    }
   ],
   "source": [
    "matrix_one = [[1,2],[4,5]]\n",
    "matrix_two = [[1,2],[4,5]]\n",
    "\n",
    "mult_matrix()"
   ]
  },
  {
   "cell_type": "markdown",
   "metadata": {},
   "source": [
    "#### Question 4"
   ]
  },
  {
   "cell_type": "code",
   "execution_count": 82,
   "metadata": {},
   "outputs": [],
   "source": [
    "def check_palindrome():\n",
    "    string = (input(\"Enter the string\")).lower()\n",
    "    if(string == string[::-1]):\n",
    "        print(f'{string} is a palindrome')\n",
    "    else:\n",
    "        print(f'{string} is not a palindrome')"
   ]
  },
  {
   "cell_type": "code",
   "execution_count": 83,
   "metadata": {},
   "outputs": [
    {
     "name": "stdin",
     "output_type": "stream",
     "text": [
      "Enter the string malayalam\n"
     ]
    },
    {
     "name": "stdout",
     "output_type": "stream",
     "text": [
      "malayalam is a palindrome\n"
     ]
    },
    {
     "name": "stdin",
     "output_type": "stream",
     "text": [
      "Enter the string hello\n"
     ]
    },
    {
     "name": "stdout",
     "output_type": "stream",
     "text": [
      "hello is not a palindrome\n"
     ]
    }
   ],
   "source": [
    "check_palindrome()\n",
    "check_palindrome()"
   ]
  },
  {
   "cell_type": "markdown",
   "metadata": {},
   "source": [
    "#### Question 5"
   ]
  },
  {
   "cell_type": "code",
   "execution_count": 84,
   "metadata": {},
   "outputs": [],
   "source": [
    "def count_vowels():\n",
    "    string = input(\"Enter a string\")\n",
    "    string_lower = string.lower()    \n",
    "    vowels = ['a','e','i','o','u']\n",
    "    count_dict = {}\n",
    "    for char in string_lower:\n",
    "        if(char in vowels):\n",
    "            if(char in count_dict):\n",
    "                count_dict[char] = count_dict[char] + 1\n",
    "            else:\n",
    "                count_dict[char] = 1\n",
    "            \n",
    "    print(f\"The count of vowels in {string} is {count_dict}\")"
   ]
  },
  {
   "cell_type": "code",
   "execution_count": 85,
   "metadata": {},
   "outputs": [
    {
     "name": "stdin",
     "output_type": "stream",
     "text": [
      "Enter a string hello world\n"
     ]
    },
    {
     "name": "stdout",
     "output_type": "stream",
     "text": [
      "The count of vowels in hello world is {'e': 1, 'o': 2}\n"
     ]
    },
    {
     "name": "stdin",
     "output_type": "stream",
     "text": [
      "Enter a string apple\n"
     ]
    },
    {
     "name": "stdout",
     "output_type": "stream",
     "text": [
      "The count of vowels in apple is {'a': 1, 'e': 1}\n"
     ]
    }
   ],
   "source": [
    "count_vowels()\n",
    "count_vowels()"
   ]
  },
  {
   "cell_type": "markdown",
   "metadata": {},
   "source": [
    "#### Question 6"
   ]
  },
  {
   "cell_type": "code",
   "execution_count": 71,
   "metadata": {},
   "outputs": [],
   "source": [
    "def sort_words():\n",
    "    arr = input(\"Enter the list of string separated by space\").split(' ')\n",
    "    for pivot in range(len(arr)):\n",
    "        for index in range(0,len(arr) - pivot - 1):\n",
    "            if(arr[index] > arr[index + 1]):\n",
    "                arr[index],arr[index + 1] = arr[index + 1],arr[index]\n",
    "    return arr"
   ]
  },
  {
   "cell_type": "code",
   "execution_count": 86,
   "metadata": {},
   "outputs": [
    {
     "name": "stdin",
     "output_type": "stream",
     "text": [
      "Enter the list of string separated by space 'ball' 'apple' 'ddog' 'dcat' 'exit'\n"
     ]
    },
    {
     "name": "stdout",
     "output_type": "stream",
     "text": [
      "[\"'apple'\", \"'ball'\", \"'dcat'\", \"'ddog'\", \"'exit'\"]\n"
     ]
    }
   ],
   "source": [
    "word_list_one = ['ball','apple','ddog','dcat','exit']\n",
    "print(sort_words())"
   ]
  },
  {
   "cell_type": "code",
   "execution_count": null,
   "metadata": {},
   "outputs": [],
   "source": []
  }
 ],
 "metadata": {
  "kernelspec": {
   "display_name": "Python 3",
   "language": "python",
   "name": "python3"
  },
  "language_info": {
   "codemirror_mode": {
    "name": "ipython",
    "version": 3
   },
   "file_extension": ".py",
   "mimetype": "text/x-python",
   "name": "python",
   "nbconvert_exporter": "python",
   "pygments_lexer": "ipython3",
   "version": "3.8.5"
  }
 },
 "nbformat": 4,
 "nbformat_minor": 4
}
