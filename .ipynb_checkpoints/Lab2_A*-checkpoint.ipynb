{
 "cells": [
  {
   "cell_type": "code",
   "execution_count": 1,
   "metadata": {},
   "outputs": [],
   "source": [
    "import numpy as np"
   ]
  },
  {
   "cell_type": "code",
   "execution_count": 2,
   "metadata": {},
   "outputs": [],
   "source": [
    "# Class to represent a state\n",
    "\n",
    "class State:\n",
    "    \n",
    "    def __init__(self,state,final_state,parent,depth = 0):\n",
    "        self.state = state\n",
    "        self.final_state = final_state\n",
    "        self.depth = depth\n",
    "        self.parent = parent\n",
    "        self._cost = self.calculate_cost()\n",
    "        \n",
    "    def __lt__(self,other):\n",
    "        return self.cost < other.cost\n",
    "    \n",
    "    def __str__(self):\n",
    "        temp_str = \"\\n\"\n",
    "        for key, value in enumerate(self.state):\n",
    "            if((key + 1) % 3 == 0):\n",
    "                temp_str = temp_str + \" \"+ str(value) + \"\\n\"\n",
    "            else:\n",
    "                temp_str = temp_str + \" \" + str(value)    \n",
    "        temp_str = temp_str + f'Cost is {self.cost} and Depth is {self.depth}'\n",
    "        return temp_str        \n",
    "        \n",
    "    def calculate_cost(self):\n",
    "        return np.sum(np.abs(self.state - self.final_state)) + self.depth\n",
    "    \n",
    "    @property\n",
    "    def cost(self):\n",
    "        return self._cost\n",
    "    \n",
    "    @cost.setter\n",
    "    def cost(self,value):\n",
    "        self._cost = value\n",
    "        \n",
    "    \n",
    "    def generate_children(self):\n",
    "        zero_position = np.where(self.state == 0)[0][0]\n",
    "        length = len(self.state)\n",
    "        temp_arr = np.copy(self.state)\n",
    "        children = []\n",
    "        \n",
    "        #Left\n",
    "        if(zero_position - 1 >= 0 and zero_position % 3 != 0):\n",
    "            self.state[zero_position], self.state[zero_position - 1] = self.state[zero_position - 1], self.state[zero_position]\n",
    "            children.append(self.state)\n",
    "            self.state = np.copy(temp_arr)\n",
    "            \n",
    "        #Right\n",
    "        if(zero_position + 1 < length and (zero_position + 1) % 3 != 0):\n",
    "            self.state[zero_position], self.state[zero_position + 1] = self.state[zero_position + 1], self.state[zero_position]\n",
    "            children.append(self.state)\n",
    "            self.state = np.copy(temp_arr)\n",
    "            \n",
    "        #Top\n",
    "        if(zero_position - 3 >= 0):\n",
    "            self.state[zero_position], self.state[zero_position - 3] = self.state[zero_position - 3], self.state[zero_position]\n",
    "            children.append(self.state)\n",
    "            self.state = np.copy(temp_arr)\n",
    "            \n",
    "        #Bottom \n",
    "        if(zero_position + 3 < length):\n",
    "            self.state[zero_position], self.state[zero_position + 3] = self.state[zero_position + 3], self.state[zero_position]\n",
    "            children.append(self.state)\n",
    "            self.state = np.copy(temp_arr)\n",
    "        \n",
    "        return children\n",
    "    "
   ]
  },
  {
   "cell_type": "code",
   "execution_count": 3,
   "metadata": {},
   "outputs": [],
   "source": [
    "# Puzzle class\n",
    "\n",
    "class Puzzle:\n",
    "    \n",
    "    def __init__(self):\n",
    "        self.initial_state =  self.take_input_states('initial')\n",
    "        self.final_state =  self.take_input_states(\"final\") \n",
    "        self.open_list = []\n",
    "        self.closed_list = []\n",
    "        self.add_state_to_open_list(0,self.initial_state,None)\n",
    "        self.result = None\n",
    "        \n",
    "        \n",
    "    def add_state_to_open_list(self,depth,state,parent):\n",
    "        state = State(state,final_state,parent,depth)\n",
    "        for closed_state in self.closed_list:\n",
    "            if(np.array_equal(closed_state, state)):\n",
    "                return            \n",
    "        self.open_list.append(state)\n",
    "        \n",
    "    def compare_to_final_state(self,state):\n",
    "        return np.array_equal(state.state,self.final_state)\n",
    "    \n",
    "    def take_input_states(self,type_of_state):\n",
    "        temp_state = input(f'Enter the {type_of_state} state without any separtions')\n",
    "        print(np.array(list(temp_state)))\n",
    "        return np.array(list(temp_state),dtype='int64')\n",
    "        \n",
    "\n",
    "    \n",
    "    def main(self):        \n",
    "        while True:\n",
    "            current_state = self.open_list[0]\n",
    "            if(self.compare_to_final_state(current_state)):\n",
    "                self.result = current_state\n",
    "                break\n",
    "             \n",
    "            for child in current_state.generate_children():\n",
    "                self.add_state_to_open_list(current_state.depth + 1,child,current_state)\n",
    "                                \n",
    "            self.closed_list.append(current_state)\n",
    "            del self.open_list[0]\n",
    "            self.open_list.sort()\n",
    "            \n",
    "            \n",
    "# Printing the path      \n",
    "        while True:\n",
    "            if(self.result.parent == None):\n",
    "                print(self.result)\n",
    "                break\n",
    "                \n",
    "            print(self.result)\n",
    "            self.result = self.result.parent\n",
    "            \n",
    "\n"
   ]
  },
  {
   "cell_type": "code",
   "execution_count": 4,
   "metadata": {},
   "outputs": [
    {
     "name": "stdin",
     "output_type": "stream",
     "text": [
      "Enter the initial state without any separtions 413026758\n"
     ]
    },
    {
     "name": "stdout",
     "output_type": "stream",
     "text": [
      "['4' '1' '3' '0' '2' '6' '7' '5' '8']\n"
     ]
    },
    {
     "name": "stdin",
     "output_type": "stream",
     "text": [
      "Enter the final state without any separtions 123456780\n"
     ]
    },
    {
     "name": "stdout",
     "output_type": "stream",
     "text": [
      "['1' '2' '3' '4' '5' '6' '7' '8' '0']\n",
      "\n",
      " 1 2 3\n",
      " 4 5 6\n",
      " 7 8 0\n",
      "Cost is 5 and Depth is 5\n",
      "\n",
      " 1 2 3\n",
      " 4 5 6\n",
      " 7 0 8\n",
      "Cost is 20 and Depth is 4\n",
      "\n",
      " 1 2 3\n",
      " 4 0 6\n",
      " 7 5 8\n",
      "Cost is 19 and Depth is 3\n",
      "\n",
      " 1 0 3\n",
      " 4 2 6\n",
      " 7 5 8\n",
      "Cost is 18 and Depth is 2\n",
      "\n",
      " 0 1 3\n",
      " 4 2 6\n",
      " 7 5 8\n",
      "Cost is 17 and Depth is 1\n",
      "\n",
      " 4 1 3\n",
      " 0 2 6\n",
      " 7 5 8\n",
      "Cost is 22 and Depth is 0\n"
     ]
    }
   ],
   "source": [
    "initial_state = np.array([4,1,3,0,2,6,7,5,8])  #np.array([1,4,2,6,5,8,7,3,0]) #\n",
    "final_state = np.array([1,2,3,4,5,6,7,8,0]) #np.array([1,2,3,4,5,6,7,8,0]) #123456780\n",
    "\n",
    "puzzle = Puzzle()\n",
    "puzzle.main()"
   ]
  },
  {
   "cell_type": "code",
   "execution_count": 8,
   "metadata": {},
   "outputs": [
    {
     "name": "stdin",
     "output_type": "stream",
     "text": [
      "Enter the initial state without any separtions 283164705\n"
     ]
    },
    {
     "name": "stdout",
     "output_type": "stream",
     "text": [
      "['2' '8' '3' '1' '6' '4' '7' '0' '5']\n"
     ]
    },
    {
     "name": "stdin",
     "output_type": "stream",
     "text": [
      "Enter the final state without any separtions 123804765\n"
     ]
    },
    {
     "name": "stdout",
     "output_type": "stream",
     "text": [
      "['1' '2' '3' '8' '0' '4' '7' '6' '5']\n",
      "\n",
      " 1 2 3\n",
      " 8 0 4\n",
      " 7 6 5\n",
      "Cost is 5 and Depth is 5\n",
      "\n",
      " 1 2 3\n",
      " 0 8 4\n",
      " 7 6 5\n",
      "Cost is 20 and Depth is 4\n",
      "\n",
      " 0 2 3\n",
      " 1 8 4\n",
      " 7 6 5\n",
      "Cost is 19 and Depth is 3\n",
      "\n",
      " 2 0 3\n",
      " 1 8 4\n",
      " 7 6 5\n",
      "Cost is 20 and Depth is 2\n",
      "\n",
      " 2 8 3\n",
      " 1 0 4\n",
      " 7 6 5\n",
      "Cost is 15 and Depth is 1\n",
      "\n",
      " 2 8 3\n",
      " 1 6 4\n",
      " 7 0 5\n",
      "Cost is 26 and Depth is 0\n"
     ]
    }
   ],
   "source": [
    "initial_state = np.array([2, 8, 3, 1, 6, 4, 7, 0, 5]) #\n",
    "final_state = np.array([1,2,3,8,0,4,7,6,5])\n",
    "\n",
    "puzzle = Puzzle()\n",
    "puzzle.main()"
   ]
  },
  {
   "cell_type": "code",
   "execution_count": 9,
   "metadata": {},
   "outputs": [
    {
     "name": "stdin",
     "output_type": "stream",
     "text": [
      "Enter the initial state without any separtions 283164705\n"
     ]
    },
    {
     "name": "stdout",
     "output_type": "stream",
     "text": [
      "['2' '8' '3' '1' '6' '4' '7' '0' '5']\n"
     ]
    },
    {
     "name": "stdin",
     "output_type": "stream",
     "text": [
      "Enter the final state without any separtions 123804765\n"
     ]
    },
    {
     "name": "stdout",
     "output_type": "stream",
     "text": [
      "['1' '2' '3' '8' '0' '4' '7' '6' '5']\n",
      "\n",
      " 1 2 3\n",
      " 8 0 4\n",
      " 7 6 5\n",
      "Cost is 5 and Depth is 5\n",
      "\n",
      " 1 2 3\n",
      " 0 8 4\n",
      " 7 6 5\n",
      "Cost is 20 and Depth is 4\n",
      "\n",
      " 0 2 3\n",
      " 1 8 4\n",
      " 7 6 5\n",
      "Cost is 19 and Depth is 3\n",
      "\n",
      " 2 0 3\n",
      " 1 8 4\n",
      " 7 6 5\n",
      "Cost is 20 and Depth is 2\n",
      "\n",
      " 2 8 3\n",
      " 1 0 4\n",
      " 7 6 5\n",
      "Cost is 15 and Depth is 1\n",
      "\n",
      " 2 8 3\n",
      " 1 6 4\n",
      " 7 0 5\n",
      "Cost is 26 and Depth is 0\n"
     ]
    }
   ],
   "source": [
    "puzzle = Puzzle()\n",
    "puzzle.main()"
   ]
  },
  {
   "cell_type": "code",
   "execution_count": null,
   "metadata": {},
   "outputs": [],
   "source": []
  }
 ],
 "metadata": {
  "kernelspec": {
   "display_name": "Python 3",
   "language": "python",
   "name": "python3"
  },
  "language_info": {
   "codemirror_mode": {
    "name": "ipython",
    "version": 3
   },
   "file_extension": ".py",
   "mimetype": "text/x-python",
   "name": "python",
   "nbconvert_exporter": "python",
   "pygments_lexer": "ipython3",
   "version": "3.8.3"
  }
 },
 "nbformat": 4,
 "nbformat_minor": 4
}
