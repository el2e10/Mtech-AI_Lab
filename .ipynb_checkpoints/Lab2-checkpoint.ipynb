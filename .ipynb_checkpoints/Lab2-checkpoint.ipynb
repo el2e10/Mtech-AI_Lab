{
 "cells": [
  {
   "cell_type": "code",
   "execution_count": 3,
   "metadata": {},
   "outputs": [],
   "source": [
    "import numpy as np\n",
    "from collections import Counter"
   ]
  },
  {
   "cell_type": "code",
   "execution_count": 5,
   "metadata": {},
   "outputs": [],
   "source": [
    "initial_state = np.array([7,2,4,5,0,6,8,3,1])\n",
    "final_state = np.array([0,1,2,3,4,5,6,7,8])\n",
    "all_state = list()"
   ]
  },
  {
   "cell_type": "code",
   "execution_count": null,
   "metadata": {},
   "outputs": [],
   "source": [
    "def manhattan_distance(arr):\n",
    "    return np.sum(np.abs(arr - final_state))"
   ]
  },
  {
   "cell_type": "code",
   "execution_count": null,
   "metadata": {},
   "outputs": [],
   "source": [
    "def matching_postion(arr):\n",
    "    count_dict = Counter(arr - final_state)\n",
    "    return len(arr) - count_dict[0]"
   ]
  },
  {
   "cell_type": "code",
   "execution_count": 12,
   "metadata": {},
   "outputs": [],
   "source": [
    "# Function to create arrays after 4 motions\n",
    "\n",
    "def make_motion(arr):\n",
    "    position = np.where(arr == 0)[0][0]\n",
    "    length = len(arr)\n",
    "    temp_arr = np.copy(arr)\n",
    "    new_arrays = []\n",
    "    print(position)\n",
    "    \n",
    "    #Left\n",
    "    if(position - 1 >= 0 and position % 3 != 0):\n",
    "        arr[position],arr[position - 1] = arr[position - 1],arr[position]\n",
    "        new_arrays.append(arr)\n",
    "        arr = np.copy(temp_arr)\n",
    "    \n",
    "    #Right\n",
    "    if(position + 1 < length and (position + 1) % 3 == 0):\n",
    "        arr[position],arr[position + 1] = arr[position + 1],arr[position]\n",
    "        new_arrays.append(arr)\n",
    "        arr = np.copy(temp_arr)\n",
    "    \n",
    "    #Top\n",
    "    print(position)\n",
    "    if(position - 3 >= 0):\n",
    "        arr[position],arr[position - 3] = arr[position - 3],arr[position]\n",
    "        new_arrays.append(arr)        \n",
    "        arr = np.copy(temp_arr)\n",
    "   \n",
    "    #Bottom\n",
    "    if(position + 3 < length):\n",
    "        arr[position],arr[position + 3] = arr[position + 3],arr[position]\n",
    "        new_arrays.append(arr)        \n",
    "        arr = np.copy(temp_arr)\n",
    "        \n",
    "    return new_arrays\n"
   ]
  },
  {
   "cell_type": "code",
   "execution_count": 16,
   "metadata": {},
   "outputs": [
    {
     "name": "stdout",
     "output_type": "stream",
     "text": [
      "5\n",
      "5\n",
      "[array([7, 2, 4, 5, 0, 3, 6, 8, 1]), array([7, 2, 4, 5, 3, 6, 0, 8, 1]), array([7, 2, 0, 5, 3, 4, 6, 8, 1]), array([7, 2, 4, 5, 3, 1, 6, 8, 0])]\n"
     ]
    }
   ],
   "source": [
    "print(make_motion(np.array([7,2,4,5,3,0,6,8,1])))"
   ]
  },
  {
   "cell_type": "code",
   "execution_count": 11,
   "metadata": {},
   "outputs": [
    {
     "name": "stdout",
     "output_type": "stream",
     "text": [
      "True\n"
     ]
    }
   ],
   "source": [
    "print(0%3 == 0)"
   ]
  },
  {
   "cell_type": "code",
   "execution_count": null,
   "metadata": {},
   "outputs": [],
   "source": [
    "# Check if the final state exist in the newly created arrays\n",
    "\n",
    "def check_finalstate_exist(arr):\n",
    "    for i in arr:        \n",
    "        if(np.array_equal(i,final_state)):\n",
    "            return True\n",
    "    else:\n",
    "        return False\n",
    "        "
   ]
  },
  {
   "cell_type": "code",
   "execution_count": null,
   "metadata": {},
   "outputs": [],
   "source": [
    "# Check if a state exist in a group of states\n",
    "def check_if_exist(check_state,all_state):\n",
    "    for state in all_state:\n",
    "        if(np.array_equal(check_state,state)):\n",
    "            return True\n",
    "    return False"
   ]
  },
  {
   "cell_type": "code",
   "execution_count": null,
   "metadata": {},
   "outputs": [],
   "source": [
    "# Check if pattern has already been seen if not add the pattern and cost to global storage\n",
    "def check_and_add_state(new_states,parent_state):\n",
    "\n",
    "    global all_state\n",
    "    global final_state\n",
    "    global state_history\n",
    "    \n",
    "    temp_all_state = all_state.copy()\n",
    "    \n",
    "    for state in new_states:\n",
    "        if(not temp_all_state):\n",
    "            temp_all_state.append(state)\n",
    "        else:\n",
    "            if(not check_if_exist(state,temp_all_state)):\n",
    "                temp_all_state.append(state)\n",
    "                insert_to_history(state,parent_state)\n",
    "    \n",
    "    all_state = temp_all_state.copy()\n",
    "\n",
    "            "
   ]
  },
  {
   "cell_type": "code",
   "execution_count": null,
   "metadata": {},
   "outputs": [],
   "source": [
    "def insert_to_history(state,prev_state):\n",
    "    \n",
    "    global state_history\n",
    "    \n",
    "    path_cost = 0\n",
    "    index = 0\n",
    "    temp_state = list()\n",
    "    \n",
    "    for key,path in enumerate(state_history):\n",
    "        path_length = len(path) - 1\n",
    "        leaf_node = path[-2]\n",
    "\n",
    "        if(np.array_equal(prev_state,leaf_node)):\n",
    "            index = key\n",
    "            break\n",
    "    \n",
    "    temp_state = state_history[index][:-1]\n",
    "    temp_state.append(state)\n",
    "    temp_state.append(manhattan_distance(state) + path_length)\n",
    "    state_history[index] = temp_state\n",
    "    \n",
    "#     print(f'The leaf node is {leaf_node} , the path is {temp_state}')\n",
    "    \n",
    "    \n",
    "    "
   ]
  },
  {
   "cell_type": "code",
   "execution_count": 226,
   "metadata": {},
   "outputs": [
    {
     "name": "stdout",
     "output_type": "stream",
     "text": [
      "[7 2 4 5 0 6 8 3 1]\n",
      "4\n",
      "[array([7, 2, 4, 0, 5, 6, 8, 3, 1]), array([7, 2, 4, 5, 6, 0, 8, 3, 1]), array([7, 0, 4, 5, 2, 6, 8, 3, 1]), array([7, 2, 4, 5, 3, 6, 8, 0, 1])]\n"
     ]
    }
   ],
   "source": [
    "#Main Loop\n",
    "\n",
    "initial_state = np.array([7,2,4,5,0,6,8,3,1])\n",
    "state_history = [[initial_state,manhattan_distance(initial_state)]]\n",
    "    \n",
    "while True:\n",
    "    \n",
    "    new_state = make_motion(initial_state)\n",
    "    \n",
    "    if(check_finalstate_exist(new_state)):\n",
    "        break\n",
    "            \n",
    "    else:\n",
    "        check_and_add_state(new_states,initial_state)\n",
    "        \n",
    "    \n",
    "    print(new_state)\n",
    "    break\n",
    "\n"
   ]
  },
  {
   "cell_type": "code",
   "execution_count": 227,
   "metadata": {},
   "outputs": [
    {
     "data": {
      "text/plain": [
       "[array([7, 2, 4, 0, 5, 6, 8, 3, 1]),\n",
       " array([7, 2, 4, 5, 6, 0, 8, 3, 1]),\n",
       " array([7, 0, 4, 5, 2, 6, 8, 3, 1]),\n",
       " array([7, 2, 4, 5, 3, 6, 8, 0, 1])]"
      ]
     },
     "execution_count": 227,
     "metadata": {},
     "output_type": "execute_result"
    }
   ],
   "source": [
    "all_state"
   ]
  },
  {
   "cell_type": "code",
   "execution_count": 228,
   "metadata": {},
   "outputs": [
    {
     "data": {
      "text/plain": [
       "[[array([7, 2, 4, 0, 5, 6, 8, 3, 1]), 30]]"
      ]
     },
     "execution_count": 228,
     "metadata": {},
     "output_type": "execute_result"
    }
   ],
   "source": [
    "state_history"
   ]
  },
  {
   "cell_type": "code",
   "execution_count": null,
   "metadata": {},
   "outputs": [],
   "source": []
  }
 ],
 "metadata": {
  "kernelspec": {
   "display_name": "Python 3",
   "language": "python",
   "name": "python3"
  },
  "language_info": {
   "codemirror_mode": {
    "name": "ipython",
    "version": 3
   },
   "file_extension": ".py",
   "mimetype": "text/x-python",
   "name": "python",
   "nbconvert_exporter": "python",
   "pygments_lexer": "ipython3",
   "version": "3.8.5"
  }
 },
 "nbformat": 4,
 "nbformat_minor": 4
}
