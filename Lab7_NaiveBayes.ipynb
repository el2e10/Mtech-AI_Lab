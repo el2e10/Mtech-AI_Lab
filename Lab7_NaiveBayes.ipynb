{
 "cells": [
  {
   "cell_type": "code",
   "execution_count": 1,
   "id": "drawn-scheme",
   "metadata": {},
   "outputs": [],
   "source": [
    "import pandas as pd\n",
    "import numpy as np\n",
    "from sklearn.datasets import load_wine\n",
    "from sklearn.model_selection import StratifiedShuffleSplit\n",
    "from sklearn.naive_bayes import GaussianNB\n",
    "from sklearn.metrics import confusion_matrix,plot_confusion_matrix,accuracy_score,recall_score,precision_score\n",
    "from matplotlib import pyplot as plt"
   ]
  },
  {
   "cell_type": "code",
   "execution_count": 2,
   "id": "buried-legend",
   "metadata": {},
   "outputs": [],
   "source": [
    "data_set = load_wine()"
   ]
  },
  {
   "cell_type": "code",
   "execution_count": 3,
   "id": "organizational-requirement",
   "metadata": {},
   "outputs": [],
   "source": [
    "wine_data = data_set.data\n",
    "wine_data_output = data_set.target\n",
    "wine_output_lables = data_set.target_names"
   ]
  },
  {
   "cell_type": "markdown",
   "id": "unusual-worth",
   "metadata": {},
   "source": [
    "### Creating test and train set"
   ]
  },
  {
   "cell_type": "code",
   "execution_count": 4,
   "id": "democratic-illness",
   "metadata": {},
   "outputs": [],
   "source": [
    "split = StratifiedShuffleSplit(n_splits=1, test_size= .2, random_state=47)\n",
    "for train_index, test_index in split.split(wine_data, wine_data_output):\n",
    "    train_X, test_X = wine_data[train_index], wine_data[test_index]\n",
    "    train_Y, test_Y = wine_data_output[train_index], wine_data_output[test_index]"
   ]
  },
  {
   "cell_type": "markdown",
   "id": "premier-offer",
   "metadata": {},
   "source": [
    "### Building model"
   ]
  },
  {
   "cell_type": "code",
   "execution_count": 5,
   "id": "applicable-installation",
   "metadata": {},
   "outputs": [
    {
     "data": {
      "text/plain": [
       "GaussianNB(priors=None, var_smoothing=1e-09)"
      ]
     },
     "execution_count": 5,
     "metadata": {},
     "output_type": "execute_result"
    }
   ],
   "source": [
    "nb_model = GaussianNB()\n",
    "nb_model.fit(train_X,train_Y)"
   ]
  },
  {
   "cell_type": "code",
   "execution_count": 6,
   "id": "graduate-solid",
   "metadata": {},
   "outputs": [],
   "source": [
    "predictions = nb_model.predict(test_X)"
   ]
  },
  {
   "cell_type": "markdown",
   "id": "focal-equation",
   "metadata": {},
   "source": [
    "### Evaluating model performance"
   ]
  },
  {
   "cell_type": "markdown",
   "id": "cheap-landing",
   "metadata": {},
   "source": [
    "- #### Confusion matrix"
   ]
  },
  {
   "cell_type": "code",
   "execution_count": 7,
   "id": "strange-reliance",
   "metadata": {},
   "outputs": [
    {
     "data": {
      "text/plain": [
       "array([[12,  0,  0],\n",
       "       [ 0, 14,  0],\n",
       "       [ 0,  0, 10]])"
      ]
     },
     "execution_count": 7,
     "metadata": {},
     "output_type": "execute_result"
    }
   ],
   "source": [
    "confusion_matrix(test_Y,predictions)"
   ]
  },
  {
   "cell_type": "code",
   "execution_count": 8,
   "id": "demographic-modern",
   "metadata": {},
   "outputs": [
    {
     "data": {
      "image/png": "[encoded data removed]",
      "text/plain": [
       "<Figure size 432x288 with 2 Axes>"
      ]
     },
     "metadata": {
      "needs_background": "light"
     },
     "output_type": "display_data"
    }
   ],
   "source": [
    "plot_confusion_matrix(nb_model,test_X,test_Y,display_labels=wine_output_lables,cmap=\"Blues\")\n",
    "plt.title(\"Confusion Matrix\")\n",
    "plt.show()"
   ]
  },
  {
   "cell_type": "markdown",
   "id": "exceptional-klein",
   "metadata": {},
   "source": [
    "- #### Accuracy"
   ]
  },
  {
   "cell_type": "code",
   "execution_count": 9,
   "id": "private-migration",
   "metadata": {},
   "outputs": [
    {
     "name": "stdout",
     "output_type": "stream",
     "text": [
      "The accuracy of the model is 1.0\n"
     ]
    }
   ],
   "source": [
    "accuracy = accuracy_score(test_Y,predictions)\n",
    "print(f'The accuracy of the model is {accuracy}')"
   ]
  },
  {
   "cell_type": "markdown",
   "id": "acute-hands",
   "metadata": {},
   "source": [
    "- #### Recall"
   ]
  },
  {
   "cell_type": "code",
   "execution_count": 10,
   "id": "varied-purpose",
   "metadata": {},
   "outputs": [
    {
     "name": "stdout",
     "output_type": "stream",
     "text": [
      "The recall of the model is 1.0\n"
     ]
    }
   ],
   "source": [
    "recall = recall_score(test_Y,predictions,average='micro')\n",
    "print(f'The recall of the model is {recall}')"
   ]
  },
  {
   "cell_type": "markdown",
   "id": "southwest-auction",
   "metadata": {},
   "source": [
    "- #### Precision"
   ]
  },
  {
   "cell_type": "code",
   "execution_count": 11,
   "id": "urban-reception",
   "metadata": {},
   "outputs": [
    {
     "name": "stdout",
     "output_type": "stream",
     "text": [
      "The precision of the model is 1.0\n"
     ]
    }
   ],
   "source": [
    "precision = precision_score(test_Y,predictions,average='micro')\n",
    "print(f'The precision of the model is {precision}')"
   ]
  }
 ],
 "metadata": {
  "kernelspec": {
   "display_name": "Python 3",
   "language": "python",
   "name": "python3"
  },
  "language_info": {
   "codemirror_mode": {
    "name": "ipython",
    "version": 3
   },
   "file_extension": ".py",
   "mimetype": "text/x-python",
   "name": "python",
   "nbconvert_exporter": "python",
   "pygments_lexer": "ipython3",
   "version": "3.8.5"
  }
 },
 "nbformat": 4,
 "nbformat_minor": 5
}
