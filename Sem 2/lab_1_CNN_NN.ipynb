{
  "nbformat": 4,
  "nbformat_minor": 0,
  "metadata": {
    "colab": {
      "name": "lab_1.ipynb",
      "provenance": [],
      "collapsed_sections": []
    },
    "kernelspec": {
      "name": "python3",
      "display_name": "Python 3"
    },
    "language_info": {
      "name": "python"
    }
  },
  "cells": [
    {
      "cell_type": "code",
      "metadata": {
        "id": "RqawLU7hFI8H"
      },
      "source": [
        "import tensorflow as tf\n",
        "from tensorflow import keras\n",
        "from keras import layers"
      ],
      "execution_count": 4,
      "outputs": []
    },
    {
      "cell_type": "code",
      "metadata": {
        "colab": {
          "base_uri": "https://localhost:8080/"
        },
        "id": "i5VvvssEFgxa",
        "outputId": "7ed5b54d-b7d5-42bc-e8c4-5bd7658f5f9f"
      },
      "source": [
        "(train_data, train_labels), (test_data, test_labels) = keras.datasets.cifar10.load_data()"
      ],
      "execution_count": 2,
      "outputs": [
        {
          "output_type": "stream",
          "text": [
            "Downloading data from https://www.cs.toronto.edu/~kriz/cifar-10-python.tar.gz\n",
            "170500096/170498071 [==============================] - 4s 0us/step\n"
          ],
          "name": "stdout"
        }
      ]
    },
    {
      "cell_type": "code",
      "metadata": {
        "id": "isQ4rBBTFw-n"
      },
      "source": [
        "train_data, test_data = train_data/255.0, test_data/255.0"
      ],
      "execution_count": 3,
      "outputs": []
    },
    {
      "cell_type": "markdown",
      "metadata": {
        "id": "FtEbwll4P-wM"
      },
      "source": [
        "### Nerual Network with 3 layers"
      ]
    },
    {
      "cell_type": "code",
      "metadata": {
        "id": "o2kDcMdRNKvA"
      },
      "source": [
        "model = keras.Sequential()\n",
        "model.add(layers.Flatten(input_shape = (32, 32,3)))\n",
        "model.add(layers.Dense(1024, activation = 'relu'))\n",
        "model.add(layers.Dense(124, activation = 'relu'))\n",
        "model.add(layers.Dense(10))"
      ],
      "execution_count": 24,
      "outputs": []
    },
    {
      "cell_type": "code",
      "metadata": {
        "colab": {
          "base_uri": "https://localhost:8080/"
        },
        "id": "FsDGacaOGn4i",
        "outputId": "911865ed-1d6a-44c5-a9bc-685aec77fa94"
      },
      "source": [
        "model.summary()"
      ],
      "execution_count": 25,
      "outputs": [
        {
          "output_type": "stream",
          "text": [
            "Model: \"sequential_4\"\n",
            "_________________________________________________________________\n",
            "Layer (type)                 Output Shape              Param #   \n",
            "=================================================================\n",
            "flatten_3 (Flatten)          (None, 3072)              0         \n",
            "_________________________________________________________________\n",
            "dense_6 (Dense)              (None, 1024)              3146752   \n",
            "_________________________________________________________________\n",
            "dense_7 (Dense)              (None, 124)               127100    \n",
            "_________________________________________________________________\n",
            "dense_8 (Dense)              (None, 10)                1250      \n",
            "=================================================================\n",
            "Total params: 3,275,102\n",
            "Trainable params: 3,275,102\n",
            "Non-trainable params: 0\n",
            "_________________________________________________________________\n"
          ],
          "name": "stdout"
        }
      ]
    },
    {
      "cell_type": "code",
      "metadata": {
        "colab": {
          "base_uri": "https://localhost:8080/"
        },
        "id": "XaVS8EwjGyE8",
        "outputId": "438f277d-d145-468f-c188-ad1280d57c7f"
      },
      "source": [
        "model.compile(optimizer='adam', loss = keras.losses.SparseCategoricalCrossentropy(from_logits = True),metrics = ['accuracy'])\n",
        "model.fit(train_data, train_labels, epochs= 10)"
      ],
      "execution_count": 26,
      "outputs": [
        {
          "output_type": "stream",
          "text": [
            "Epoch 1/10\n",
            "1563/1563 [==============================] - 32s 20ms/step - loss: 2.0888 - accuracy: 0.2581\n",
            "Epoch 2/10\n",
            "1563/1563 [==============================] - 32s 20ms/step - loss: 1.7212 - accuracy: 0.3793\n",
            "Epoch 3/10\n",
            "1563/1563 [==============================] - 32s 20ms/step - loss: 1.6327 - accuracy: 0.4173\n",
            "Epoch 4/10\n",
            "1563/1563 [==============================] - 32s 20ms/step - loss: 1.5788 - accuracy: 0.4329\n",
            "Epoch 5/10\n",
            "1563/1563 [==============================] - 32s 20ms/step - loss: 1.5302 - accuracy: 0.4546\n",
            "Epoch 6/10\n",
            "1563/1563 [==============================] - 32s 20ms/step - loss: 1.4947 - accuracy: 0.4654\n",
            "Epoch 7/10\n",
            "1563/1563 [==============================] - 32s 21ms/step - loss: 1.4645 - accuracy: 0.4806\n",
            "Epoch 8/10\n",
            "1563/1563 [==============================] - 32s 20ms/step - loss: 1.4312 - accuracy: 0.4860\n",
            "Epoch 9/10\n",
            "1563/1563 [==============================] - 32s 20ms/step - loss: 1.4206 - accuracy: 0.4909\n",
            "Epoch 10/10\n",
            "1563/1563 [==============================] - 32s 20ms/step - loss: 1.3880 - accuracy: 0.5030\n"
          ],
          "name": "stdout"
        },
        {
          "output_type": "execute_result",
          "data": {
            "text/plain": [
              "<tensorflow.python.keras.callbacks.History at 0x7f1e62d10210>"
            ]
          },
          "metadata": {
            "tags": []
          },
          "execution_count": 26
        }
      ]
    },
    {
      "cell_type": "code",
      "metadata": {
        "colab": {
          "base_uri": "https://localhost:8080/"
        },
        "id": "DHgoYuLhHkYB",
        "outputId": "73df0ee7-2434-4f3e-bed9-32aa5ee7dbdb"
      },
      "source": [
        "train_data[0].shape"
      ],
      "execution_count": 14,
      "outputs": [
        {
          "output_type": "execute_result",
          "data": {
            "text/plain": [
              "(32, 32, 3)"
            ]
          },
          "metadata": {
            "tags": []
          },
          "execution_count": 14
        }
      ]
    },
    {
      "cell_type": "code",
      "metadata": {
        "colab": {
          "base_uri": "https://localhost:8080/"
        },
        "id": "iwKFsR1pH5ou",
        "outputId": "ced31839-05aa-46f3-e137-b6f0e27df1a2"
      },
      "source": [
        "model.evaluate(test_data, test_labels, verbose = 1)"
      ],
      "execution_count": 27,
      "outputs": [
        {
          "output_type": "stream",
          "text": [
            "313/313 [==============================] - 2s 7ms/step - loss: 1.4953 - accuracy: 0.4661\n"
          ],
          "name": "stdout"
        },
        {
          "output_type": "execute_result",
          "data": {
            "text/plain": [
              "[1.4952994585037231, 0.4661000072956085]"
            ]
          },
          "metadata": {
            "tags": []
          },
          "execution_count": 27
        }
      ]
    },
    {
      "cell_type": "markdown",
      "metadata": {
        "id": "ospndcz7QJby"
      },
      "source": [
        "### Convolutional Neural Network"
      ]
    },
    {
      "cell_type": "code",
      "metadata": {
        "id": "U3lUVHvcQGAl"
      },
      "source": [
        "model_cnn = keras.Sequential()\n",
        "model_cnn.add(layers.Convolution2D(32, (3,3), activation = 'relu', input_shape=(32,32,3)))\n",
        "model_cnn.add(layers.MaxPooling2D(2,2))\n",
        "model_cnn.add(layers.Convolution2D(64, (3,3), activation = 'relu'))\n",
        "model_cnn.add(layers.MaxPooling2D(2,2))\n",
        "model_cnn.add(layers.Convolution2D(64, (3,3), activation = 'relu'))\n",
        "model_cnn.add(layers.Flatten())\n",
        "model_cnn.add(layers.Dense(128, activation='relu',))\n",
        "model_cnn.add(layers.Dense(10))"
      ],
      "execution_count": 37,
      "outputs": []
    },
    {
      "cell_type": "code",
      "metadata": {
        "colab": {
          "base_uri": "https://localhost:8080/"
        },
        "id": "a0jUGPTERLKt",
        "outputId": "4cbbca47-75b9-4d14-9fd2-b1e1122adfbb"
      },
      "source": [
        "model_cnn.summary()"
      ],
      "execution_count": 38,
      "outputs": [
        {
          "output_type": "stream",
          "text": [
            "Model: \"sequential_8\"\n",
            "_________________________________________________________________\n",
            "Layer (type)                 Output Shape              Param #   \n",
            "=================================================================\n",
            "conv2d_9 (Conv2D)            (None, 30, 30, 32)        896       \n",
            "_________________________________________________________________\n",
            "max_pooling2d_6 (MaxPooling2 (None, 15, 15, 32)        0         \n",
            "_________________________________________________________________\n",
            "conv2d_10 (Conv2D)           (None, 13, 13, 64)        18496     \n",
            "_________________________________________________________________\n",
            "max_pooling2d_7 (MaxPooling2 (None, 6, 6, 64)          0         \n",
            "_________________________________________________________________\n",
            "conv2d_11 (Conv2D)           (None, 4, 4, 64)          36928     \n",
            "_________________________________________________________________\n",
            "flatten_5 (Flatten)          (None, 1024)              0         \n",
            "_________________________________________________________________\n",
            "dense_10 (Dense)             (None, 128)               131200    \n",
            "_________________________________________________________________\n",
            "dense_11 (Dense)             (None, 10)                1290      \n",
            "=================================================================\n",
            "Total params: 188,810\n",
            "Trainable params: 188,810\n",
            "Non-trainable params: 0\n",
            "_________________________________________________________________\n"
          ],
          "name": "stdout"
        }
      ]
    },
    {
      "cell_type": "code",
      "metadata": {
        "colab": {
          "base_uri": "https://localhost:8080/"
        },
        "id": "Yr0KP8EPRTNz",
        "outputId": "2ad9b4de-f526-4b6e-e4af-d98f20a5753c"
      },
      "source": [
        "model_cnn.compile(optimizer='adam', loss = keras.losses.SparseCategoricalCrossentropy(from_logits=True),metrics = ['accuracy'])\n",
        "model_cnn.fit(train_data,train_labels,epochs=10)"
      ],
      "execution_count": 39,
      "outputs": [
        {
          "output_type": "stream",
          "text": [
            "Epoch 1/10\n",
            "1563/1563 [==============================] - 60s 38ms/step - loss: 1.7679 - accuracy: 0.3460\n",
            "Epoch 2/10\n",
            "1563/1563 [==============================] - 60s 39ms/step - loss: 1.2105 - accuracy: 0.5716\n",
            "Epoch 3/10\n",
            "1563/1563 [==============================] - 61s 39ms/step - loss: 1.0386 - accuracy: 0.6333\n",
            "Epoch 4/10\n",
            "1563/1563 [==============================] - 61s 39ms/step - loss: 0.9125 - accuracy: 0.6779\n",
            "Epoch 5/10\n",
            "1563/1563 [==============================] - 61s 39ms/step - loss: 0.8411 - accuracy: 0.7046\n",
            "Epoch 6/10\n",
            "1563/1563 [==============================] - 61s 39ms/step - loss: 0.7590 - accuracy: 0.7344\n",
            "Epoch 7/10\n",
            "1563/1563 [==============================] - 61s 39ms/step - loss: 0.7073 - accuracy: 0.7527\n",
            "Epoch 8/10\n",
            "1563/1563 [==============================] - 61s 39ms/step - loss: 0.6534 - accuracy: 0.7693\n",
            "Epoch 9/10\n",
            "1563/1563 [==============================] - 61s 39ms/step - loss: 0.5997 - accuracy: 0.7884\n",
            "Epoch 10/10\n",
            "1563/1563 [==============================] - 61s 39ms/step - loss: 0.5544 - accuracy: 0.8078\n"
          ],
          "name": "stdout"
        },
        {
          "output_type": "execute_result",
          "data": {
            "text/plain": [
              "<tensorflow.python.keras.callbacks.History at 0x7f1e600a7c10>"
            ]
          },
          "metadata": {
            "tags": []
          },
          "execution_count": 39
        }
      ]
    },
    {
      "cell_type": "code",
      "metadata": {
        "colab": {
          "base_uri": "https://localhost:8080/"
        },
        "id": "kc5OF3MTT99I",
        "outputId": "98805c1e-6dcc-4b92-e548-7fc39bd7ba9a"
      },
      "source": [
        "model_cnn.evaluate(test_data, test_labels)"
      ],
      "execution_count": 40,
      "outputs": [
        {
          "output_type": "stream",
          "text": [
            "313/313 [==============================] - 4s 12ms/step - loss: 0.8923 - accuracy: 0.7027\n"
          ],
          "name": "stdout"
        },
        {
          "output_type": "execute_result",
          "data": {
            "text/plain": [
              "[0.8923493027687073, 0.7027000188827515]"
            ]
          },
          "metadata": {
            "tags": []
          },
          "execution_count": 40
        }
      ]
    },
    {
      "cell_type": "markdown",
      "metadata": {
        "id": "CGVgNJVgB7ae"
      },
      "source": [
        "### Outcome \n",
        "\n",
        "- The accuracy of neural network is about 46%\n",
        "- The accuracy of convolutional neural network is about 70%\n",
        "\n",
        "There is a significant increase in accuracy while using convolutional neural network for image classification. "
      ]
    },
    {
      "cell_type": "code",
      "metadata": {
        "id": "BBqqDiqACrjR"
      },
      "source": [
        ""
      ],
      "execution_count": null,
      "outputs": []
    }
  ]
}