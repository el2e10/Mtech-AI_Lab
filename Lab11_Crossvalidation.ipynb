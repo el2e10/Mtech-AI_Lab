{
 "cells": [
  {
   "cell_type": "code",
   "execution_count": 76,
   "id": "disabled-exercise",
   "metadata": {},
   "outputs": [],
   "source": [
    "from sklearn.datasets import load_iris\n",
    "from sklearn.model_selection import train_test_split, cross_validate\n",
    "from sklearn.tree import DecisionTreeClassifier\n",
    "from sklearn.metrics import confusion_matrix, plot_confusion_matrix\n",
    "import pandas as pd\n",
    "from matplotlib import pyplot as plt\n",
    "import numpy as np"
   ]
  },
  {
   "cell_type": "code",
   "execution_count": 77,
   "id": "collaborative-wrapping",
   "metadata": {},
   "outputs": [],
   "source": [
    "iris_data = load_iris()"
   ]
  },
  {
   "cell_type": "code",
   "execution_count": 78,
   "id": "right-swing",
   "metadata": {},
   "outputs": [],
   "source": [
    "data = iris_data.data"
   ]
  },
  {
   "cell_type": "code",
   "execution_count": 79,
   "id": "instant-communist",
   "metadata": {},
   "outputs": [],
   "source": [
    "new_target = [1 if a>1 else 0 for a in iris_data.target ]"
   ]
  },
  {
   "cell_type": "code",
   "execution_count": 80,
   "id": "trying-seafood",
   "metadata": {},
   "outputs": [],
   "source": [
    "X_train, X_test, y_train, y_test = train_test_split(data, new_target,test_size = 0.2)"
   ]
  },
  {
   "cell_type": "code",
   "execution_count": 81,
   "id": "configured-florida",
   "metadata": {},
   "outputs": [
    {
     "data": {
      "text/plain": [
       "DecisionTreeClassifier(ccp_alpha=0.0, class_weight=None, criterion='gini',\n",
       "                       max_depth=None, max_features=None, max_leaf_nodes=None,\n",
       "                       min_impurity_decrease=0.0, min_impurity_split=None,\n",
       "                       min_samples_leaf=1, min_samples_split=2,\n",
       "                       min_weight_fraction_leaf=0.0, presort='deprecated',\n",
       "                       random_state=None, splitter='best')"
      ]
     },
     "execution_count": 81,
     "metadata": {},
     "output_type": "execute_result"
    }
   ],
   "source": [
    "tree_clf = DecisionTreeClassifier()\n",
    "tree_clf.fit(X_train,y_train)"
   ]
  },
  {
   "cell_type": "code",
   "execution_count": 82,
   "id": "academic-compensation",
   "metadata": {},
   "outputs": [],
   "source": [
    "predictions = tree_clf.predict(X_test)"
   ]
  },
  {
   "cell_type": "code",
   "execution_count": 83,
   "id": "alone-venture",
   "metadata": {},
   "outputs": [
    {
     "data": {
      "text/plain": [
       "array([[17,  1],\n",
       "       [ 1, 11]])"
      ]
     },
     "execution_count": 83,
     "metadata": {},
     "output_type": "execute_result"
    }
   ],
   "source": [
    "confusion_matrix(y_test,predictions)"
   ]
  },
  {
   "cell_type": "code",
   "execution_count": 84,
   "id": "moving-frank",
   "metadata": {},
   "outputs": [
    {
     "data": {
      "image/png": "[encoded data removed]",
      "text/plain": [
       "<Figure size 432x288 with 2 Axes>"
      ]
     },
     "metadata": {
      "needs_background": "light"
     },
     "output_type": "display_data"
    }
   ],
   "source": [
    "plot_confusion_matrix(tree_clf, X_test, y_test,cmap=\"winter_r\")\n",
    "plt.show()"
   ]
  },
  {
   "cell_type": "code",
   "execution_count": 85,
   "id": "proof-locking",
   "metadata": {},
   "outputs": [],
   "source": [
    "cross_validation_result = cross_validate(tree_clf, data, new_target,cv = 10)"
   ]
  },
  {
   "cell_type": "code",
   "execution_count": 86,
   "id": "separated-testament",
   "metadata": {},
   "outputs": [
    {
     "data": {
      "text/plain": [
       "{'fit_time': array([0.00231385, 0.00098205, 0.00084472, 0.00107503, 0.00050688,\n",
       "        0.00054693, 0.000736  , 0.00047994, 0.00061107, 0.00059295]),\n",
       " 'score_time': array([0.00075507, 0.00063801, 0.00054312, 0.00036097, 0.00031114,\n",
       "        0.00033402, 0.00033092, 0.00030899, 0.00034308, 0.00063515]),\n",
       " 'test_score': array([1.        , 0.93333333, 1.        , 0.93333333, 1.        ,\n",
       "        0.93333333, 1.        , 0.86666667, 0.93333333, 1.        ])}"
      ]
     },
     "execution_count": 86,
     "metadata": {},
     "output_type": "execute_result"
    }
   ],
   "source": [
    "cross_validation_result"
   ]
  },
  {
   "cell_type": "code",
   "execution_count": 87,
   "id": "aboriginal-cookie",
   "metadata": {},
   "outputs": [
    {
     "data": {
      "text/plain": [
       "dict_keys(['fit_time', 'score_time', 'test_score'])"
      ]
     },
     "execution_count": 87,
     "metadata": {},
     "output_type": "execute_result"
    }
   ],
   "source": [
    "cross_validation_result.keys()"
   ]
  },
  {
   "cell_type": "code",
   "execution_count": 88,
   "id": "civil-humidity",
   "metadata": {},
   "outputs": [],
   "source": [
    "cross_validation_score = cross_validation_result['test_score']"
   ]
  },
  {
   "cell_type": "code",
   "execution_count": 91,
   "id": "hairy-scope",
   "metadata": {},
   "outputs": [
    {
     "data": {
      "text/plain": [
       "array([1.        , 0.93333333, 1.        , 0.93333333, 1.        ,\n",
       "       0.93333333, 1.        , 0.86666667, 0.93333333, 1.        ])"
      ]
     },
     "execution_count": 91,
     "metadata": {},
     "output_type": "execute_result"
    }
   ],
   "source": [
    "cross_validation_score"
   ]
  },
  {
   "cell_type": "code",
   "execution_count": 89,
   "id": "differential-rhythm",
   "metadata": {},
   "outputs": [],
   "source": [
    "avg_accuracy = np.average(cross_validation_score)"
   ]
  },
  {
   "cell_type": "code",
   "execution_count": 90,
   "id": "tracked-theology",
   "metadata": {},
   "outputs": [
    {
     "name": "stdout",
     "output_type": "stream",
     "text": [
      "The average accuracy is 0.96\n"
     ]
    }
   ],
   "source": [
    "print(f\"The average accuracy is {avg_accuracy}\")"
   ]
  }
 ],
 "metadata": {
  "kernelspec": {
   "display_name": "Python 3",
   "language": "python",
   "name": "python3"
  },
  "language_info": {
   "codemirror_mode": {
    "name": "ipython",
    "version": 3
   },
   "file_extension": ".py",
   "mimetype": "text/x-python",
   "name": "python",
   "nbconvert_exporter": "python",
   "pygments_lexer": "ipython3",
   "version": "3.8.5"
  }
 },
 "nbformat": 4,
 "nbformat_minor": 5
}
